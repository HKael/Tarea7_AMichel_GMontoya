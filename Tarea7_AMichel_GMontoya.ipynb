{
 "cells": [
  {
   "cell_type": "markdown",
   "metadata": {},
   "source": [
    "<img style=\"float: left; margin: 30px 15px 15px 15px;\" src=\"https://pngimage.net/wp-content/uploads/2018/06/logo-iteso-png-5.png\" width=\"300\" height=\"500\" /> \n",
    "    \n",
    "    \n",
    "### <font color='navy'> Simulación de procesos financieros. \n",
    "\n",
    "**Nombres:** Alejandro Michel Marrón / Gabriela Ivonne Montoya Ortiz\n",
    "\n",
    "**Fecha:** 22 de octubre del 2020.\n",
    "\n",
    "**Expediente** : 719889 / 715478\n",
    "**Profesor:** Oscar David Jaramillo Zuluaga.\n",
    "    \n",
    "**Github:** https://github.com/HKael/Tarea7_AMichel_GMontoya\n",
    "\n",
    "# Tarea 7: Clases 14 y 15"
   ]
  },
  {
   "cell_type": "markdown",
   "metadata": {},
   "source": [
    "# Tarea Clase 14\n",
    "\n",
    "Aproxime el valor de la siguiente integral usando el método monte carlo crudo y método de reducción de varianza de muestreo estratíficado\n",
    "\n",
    "$$I=\\int_{0}^{1}x^2\\text{d}x=\\left.\\frac{x^3}{3}\\right|_{x=0}^{x=1}=\\frac{1}{3}\\approx 0.33333$$\n",
    "\n",
    "Pasos\n",
    "1. Cree una función que realice el método de muestreo estratíficado, recibiendo como único parámetro de entrada la cantidad de estratos y retornando las variables estratíficadas correspondientes.\n",
    "2. Reporte los resultados de la aproximación de la integral usando montecarlo crudo y muestreo estratíficado, en un Dataframe con la información mostrada en la siguiente imagen:\n"
   ]
  },
  {
   "cell_type": "code",
   "execution_count": 1,
   "metadata": {},
   "outputs": [
    {
     "data": {
      "text/html": [
       "<img src=\"https://i.imgur.com/x26ticp.png\"/>"
      ],
      "text/plain": [
       "<IPython.core.display.Image object>"
      ]
     },
     "execution_count": 1,
     "metadata": {},
     "output_type": "execute_result"
    }
   ],
   "source": [
    "from IPython.display import Image\n",
    "from IPython.core.display import HTML \n",
    "Image(url= \"https://i.imgur.com/x26ticp.png\")"
   ]
  },
  {
   "cell_type": "code",
   "execution_count": 2,
   "metadata": {},
   "outputs": [],
   "source": [
    "import math\n",
    "import numpy as np\n",
    "from functools import reduce\n",
    "import time\n",
    "import matplotlib.pyplot as plt\n",
    "import scipy.stats as st     # Librería estadística\n",
    "import pandas as pd\n",
    "from itertools import cycle  # Librería para hacer ciclos"
   ]
  },
  {
   "cell_type": "code",
   "execution_count": 3,
   "metadata": {},
   "outputs": [],
   "source": [
    "# Solución Alejandro Michel\n",
    "# Funciones\n",
    "# Integración montecarlo\n",
    "def int_montecarlo(f:'Función a integrar',\n",
    "                   a:'Límite inferior de la integral',\n",
    "                   b:'Límite superior de la integral',\n",
    "                   U:'Muestra de números U~[a,b]'):\n",
    "    return (b-a) / len(U) * np.sum(f(U))\n",
    "\n",
    "# Muestreo Estratíficado\n",
    "def mest_montecarlo(f:'Función a integrar',\n",
    "                   a:'Límite inferior de la integral',\n",
    "                   b:'Límite superior de la integral',\n",
    "                   N:'Muestra de números U~[a,b]',\n",
    "                   NE:'Número de Estratos'):\n",
    "    delta = (b-a) / NE\n",
    "    d = pd.DataFrame(np.random.uniform(a, a+delta, round(N/NE)))\n",
    "    i = 1\n",
    "    while i <= NE - 1:\n",
    "        i += 1\n",
    "        a += delta\n",
    "        d1 = pd.DataFrame(np.random.uniform(a, a+delta, round(N/NE)))\n",
    "        d = pd.concat([d, d1], axis = 1)\n",
    "    dnp = d.to_numpy()\n",
    "    dnp = dnp.transpose()\n",
    "    return (b-a) / (len(dnp)**(round(np.log10(N))-1)) * np.sum(f(dnp))\n",
    "\n",
    "\n",
    "\n",
    "\n"
   ]
  },
  {
   "cell_type": "code",
   "execution_count": 4,
   "metadata": {},
   "outputs": [
    {
     "data": {
      "text/html": [
       "<div>\n",
       "<style scoped>\n",
       "    .dataframe tbody tr th:only-of-type {\n",
       "        vertical-align: middle;\n",
       "    }\n",
       "\n",
       "    .dataframe tbody tr th {\n",
       "        vertical-align: top;\n",
       "    }\n",
       "\n",
       "    .dataframe thead th {\n",
       "        text-align: right;\n",
       "    }\n",
       "</style>\n",
       "<table border=\"1\" class=\"dataframe\">\n",
       "  <thead>\n",
       "    <tr style=\"text-align: right;\">\n",
       "      <th></th>\n",
       "      <th>Montecarlo Crudo</th>\n",
       "      <th>Error_relativo1%</th>\n",
       "      <th>Muestreo Estratíficado</th>\n",
       "      <th>Error_relativo2%</th>\n",
       "    </tr>\n",
       "    <tr>\n",
       "      <th>Cantidad_terminos</th>\n",
       "      <th></th>\n",
       "      <th></th>\n",
       "      <th></th>\n",
       "      <th></th>\n",
       "    </tr>\n",
       "  </thead>\n",
       "  <tbody>\n",
       "    <tr>\n",
       "      <th>10</th>\n",
       "      <td>0.318040</td>\n",
       "      <td>4.587869</td>\n",
       "      <td>0.330530</td>\n",
       "      <td>0.840948</td>\n",
       "    </tr>\n",
       "    <tr>\n",
       "      <th>100</th>\n",
       "      <td>0.347940</td>\n",
       "      <td>4.382082</td>\n",
       "      <td>0.327435</td>\n",
       "      <td>1.769548</td>\n",
       "    </tr>\n",
       "    <tr>\n",
       "      <th>1000</th>\n",
       "      <td>0.340482</td>\n",
       "      <td>2.144626</td>\n",
       "      <td>0.333033</td>\n",
       "      <td>0.090189</td>\n",
       "    </tr>\n",
       "    <tr>\n",
       "      <th>10000</th>\n",
       "      <td>0.337422</td>\n",
       "      <td>1.226726</td>\n",
       "      <td>0.333007</td>\n",
       "      <td>0.097986</td>\n",
       "    </tr>\n",
       "    <tr>\n",
       "      <th>100000</th>\n",
       "      <td>0.334605</td>\n",
       "      <td>0.381561</td>\n",
       "      <td>0.333289</td>\n",
       "      <td>0.013425</td>\n",
       "    </tr>\n",
       "    <tr>\n",
       "      <th>1000000</th>\n",
       "      <td>0.333770</td>\n",
       "      <td>0.130850</td>\n",
       "      <td>0.333325</td>\n",
       "      <td>0.002587</td>\n",
       "    </tr>\n",
       "    <tr>\n",
       "      <th>10000000</th>\n",
       "      <td>0.333193</td>\n",
       "      <td>0.042239</td>\n",
       "      <td>0.333326</td>\n",
       "      <td>0.002170</td>\n",
       "    </tr>\n",
       "  </tbody>\n",
       "</table>\n",
       "</div>"
      ],
      "text/plain": [
       "                   Montecarlo Crudo  Error_relativo1%  Muestreo Estratíficado  \\\n",
       "Cantidad_terminos                                                               \n",
       "10                         0.318040          4.587869                0.330530   \n",
       "100                        0.347940          4.382082                0.327435   \n",
       "1000                       0.340482          2.144626                0.333033   \n",
       "10000                      0.337422          1.226726                0.333007   \n",
       "100000                     0.334605          0.381561                0.333289   \n",
       "1000000                    0.333770          0.130850                0.333325   \n",
       "10000000                   0.333193          0.042239                0.333326   \n",
       "\n",
       "                   Error_relativo2%  \n",
       "Cantidad_terminos                    \n",
       "10                         0.840948  \n",
       "100                        1.769548  \n",
       "1000                       0.090189  \n",
       "10000                      0.097986  \n",
       "100000                     0.013425  \n",
       "1000000                    0.002587  \n",
       "10000000                   0.002170  "
      ]
     },
     "execution_count": 4,
     "metadata": {},
     "output_type": "execute_result"
    }
   ],
   "source": [
    "#Datos inicio, Intervalo, Terminos\n",
    "I = 1/3\n",
    "Estr = 10\n",
    "a = 0; b = 1 \n",
    "N = np.logspace(1, 7, 7, dtype=int) \n",
    "N2 = [10, 100, 1000, 10000, 100000, 1000000, 10000000]\n",
    "\n",
    "### Int_Montecarlo\n",
    "ui = list(map(lambda N: np.random.uniform(a, b, N), N)) \n",
    "fInt = list(map(lambda Y: int_montecarlo(lambda x:x**2, a, b, Y), ui))  \n",
    "\n",
    "\n",
    "\n",
    "### Est_Montecarlo\n",
    "fEst = list(map(lambda Y: mest_montecarlo(lambda x:x**2, a , b, Y, Estr), N2))\n",
    "\n",
    "\n",
    "### DataFrame \n",
    "df = pd.DataFrame(index= N, columns= ['Montecarlo Crudo', 'Error_relativo1%', 'Muestreo Estratíficado', 'Error_relativo2%'], dtype='float')\n",
    "df.index.name = \"Cantidad_terminos\" \n",
    "df.loc[N, \"Montecarlo Crudo\"] = fInt\n",
    "df.loc[N, \"Error_relativo1%\"] = np.abs(df.loc[N, \"Montecarlo Crudo\"] -I)* 100 / I\n",
    "df.loc[N, \"Muestreo Estratíficado\"] = fEst\n",
    "df.loc[N, \"Error_relativo2%\"] = np.abs(df.loc[N, \"Muestreo Estratíficado\"] -I)* 100 / I\n",
    "df\n"
   ]
  },
  {
   "cell_type": "markdown",
   "metadata": {},
   "source": [
    "# Código de solución Gabriela\n",
    ".\n",
    ".\n",
    ".\n",
    ".\n"
   ]
  },
  {
   "cell_type": "code",
   "execution_count": 38,
   "metadata": {},
   "outputs": [
    {
     "data": {
      "text/html": [
       "<div>\n",
       "<style scoped>\n",
       "    .dataframe tbody tr th:only-of-type {\n",
       "        vertical-align: middle;\n",
       "    }\n",
       "\n",
       "    .dataframe tbody tr th {\n",
       "        vertical-align: top;\n",
       "    }\n",
       "\n",
       "    .dataframe thead th {\n",
       "        text-align: right;\n",
       "    }\n",
       "</style>\n",
       "<table border=\"1\" class=\"dataframe\">\n",
       "  <thead>\n",
       "    <tr style=\"text-align: right;\">\n",
       "      <th></th>\n",
       "      <th>Montecarlo Crudo</th>\n",
       "      <th>Error_relativo</th>\n",
       "      <th>Muestreo estratificado</th>\n",
       "      <th>Error_relativo2</th>\n",
       "    </tr>\n",
       "    <tr>\n",
       "      <th>Cantidad_terminos</th>\n",
       "      <th></th>\n",
       "      <th></th>\n",
       "      <th></th>\n",
       "      <th></th>\n",
       "    </tr>\n",
       "  </thead>\n",
       "  <tbody>\n",
       "    <tr>\n",
       "      <th>10</th>\n",
       "      <td>0.160132</td>\n",
       "      <td>51.9604</td>\n",
       "      <td>0.334709</td>\n",
       "      <td>0.412676</td>\n",
       "    </tr>\n",
       "    <tr>\n",
       "      <th>100</th>\n",
       "      <td>0.349261</td>\n",
       "      <td>4.77843</td>\n",
       "      <td>0.333252</td>\n",
       "      <td>0.024293</td>\n",
       "    </tr>\n",
       "    <tr>\n",
       "      <th>1000</th>\n",
       "      <td>0.31174</td>\n",
       "      <td>6.478</td>\n",
       "      <td>0.333341</td>\n",
       "      <td>0.00219752</td>\n",
       "    </tr>\n",
       "    <tr>\n",
       "      <th>10000</th>\n",
       "      <td>0.333329</td>\n",
       "      <td>0.0011802</td>\n",
       "      <td>0.333333</td>\n",
       "      <td>0.000226601</td>\n",
       "    </tr>\n",
       "    <tr>\n",
       "      <th>100000</th>\n",
       "      <td>0.333763</td>\n",
       "      <td>0.128881</td>\n",
       "      <td>0.333333</td>\n",
       "      <td>1.30093e-06</td>\n",
       "    </tr>\n",
       "    <tr>\n",
       "      <th>1000000</th>\n",
       "      <td>0.333122</td>\n",
       "      <td>0.0634587</td>\n",
       "      <td>0.333333</td>\n",
       "      <td>1.52144e-07</td>\n",
       "    </tr>\n",
       "    <tr>\n",
       "      <th>10000000</th>\n",
       "      <td>0.333424</td>\n",
       "      <td>0.0271157</td>\n",
       "      <td>0.333333</td>\n",
       "      <td>8.5375e-10</td>\n",
       "    </tr>\n",
       "  </tbody>\n",
       "</table>\n",
       "</div>"
      ],
      "text/plain": [
       "                  Montecarlo Crudo Error_relativo Muestreo estratificado  \\\n",
       "Cantidad_terminos                                                          \n",
       "10                        0.160132        51.9604               0.334709   \n",
       "100                       0.349261        4.77843               0.333252   \n",
       "1000                       0.31174          6.478               0.333341   \n",
       "10000                     0.333329      0.0011802               0.333333   \n",
       "100000                    0.333763       0.128881               0.333333   \n",
       "1000000                   0.333122      0.0634587               0.333333   \n",
       "10000000                  0.333424      0.0271157               0.333333   \n",
       "\n",
       "                  Error_relativo2  \n",
       "Cantidad_terminos                  \n",
       "10                       0.412676  \n",
       "100                      0.024293  \n",
       "1000                   0.00219752  \n",
       "10000                 0.000226601  \n",
       "100000                1.30093e-06  \n",
       "1000000               1.52144e-07  \n",
       "10000000               8.5375e-10  "
      ]
     },
     "execution_count": 38,
     "metadata": {},
     "output_type": "execute_result"
    }
   ],
   "source": [
    "import numpy as np \n",
    "import matplotlib.pyplot as plt \n",
    "import pandas as pd\n",
    "from functools import reduce\n",
    "import time\n",
    "import scipy.stats as st\n",
    "\n",
    "def int_montecarlo(f:'Función a integrar',\n",
    "                  a: 'Límite inferior de la integral',\n",
    "                  b: 'Límite superio de la integral',\n",
    "                  U: 'Mnuestra de números U~[a,b]'):\n",
    "    return (b-a)/len(U)*np.sum(f(U))\n",
    "\n",
    "\n",
    "def estratos(a,b,N):\n",
    "    U2 = np.random.uniform(a,b,N)\n",
    "    i = np.arange(0,N)\n",
    "    v = (U2+i)/N\n",
    "    return v\n",
    "\n",
    "I = 1/3\n",
    "\n",
    "a = 0\n",
    "b=1\n",
    "N = np.logspace(1,7,7,dtype = int)\n",
    "\n",
    "df = pd.DataFrame(index=N, columns=['Montecarlo Crudo','Error_relativo','Muestreo estratificado', 'Error_relativo2'])\n",
    "df.index.name=\"Cantidad_terminos\"\n",
    "\n",
    "ui = list(map(lambda N:np.random.uniform(a,b,N),N))\n",
    "u_est = list(map(lambda N: estratos(a,b,N),N))\n",
    "I_m = list(map(lambda Y:int_montecarlo(lambda x:x**2,a,b,Y),ui))\n",
    "I_est = list(map(lambda Y:int_montecarlo(lambda x:x**2,a,b,Y),u_est))\n",
    "\n",
    "df.loc[N,\"Montecarlo Crudo\"]=I_m\n",
    "df.loc[N,\"Error_relativo\"]=np.abs(df.loc[N,\"Montecarlo Crudo\"]-I)*100/I\n",
    "df.loc[N,\"Muestreo estratificado\"]=I_est\n",
    "df.loc[N,\"Error_relativo2\"]=np.abs(df.loc[N,\"Muestreo estratificado\"]-I)*100/I\n",
    "df\n"
   ]
  },
  {
   "cell_type": "markdown",
   "metadata": {},
   "source": [
    "#  Tarea Clase 15\n",
    "\n"
   ]
  },
  {
   "cell_type": "code",
   "execution_count": 5,
   "metadata": {},
   "outputs": [
    {
     "data": {
      "text/html": [
       "<img src=\"https://i.imgur.com/sQa0ojR.png\"/>"
      ],
      "text/plain": [
       "<IPython.core.display.Image object>"
      ]
     },
     "execution_count": 5,
     "metadata": {},
     "output_type": "execute_result"
    }
   ],
   "source": [
    "Image(url= \"https://i.imgur.com/sQa0ojR.png\")"
   ]
  },
  {
   "cell_type": "markdown",
   "metadata": {},
   "source": [
    "Además use el método de estratificación donde se divide en B estratos, visto la clase pasada y compare el resultado con los métodos anteriores cuando se toman $2,4,6,10$ estratos respectivamente, concluya."
   ]
  },
  {
   "cell_type": "code",
   "execution_count": 6,
   "metadata": {},
   "outputs": [],
   "source": [
    "# Solución Alejandro Michel"
   ]
  },
  {
   "cell_type": "markdown",
   "metadata": {},
   "source": [
    "Función $f(x) = \\begin{cases}\\frac{3}{2}x^{2}, &-1\\leq x \\leq 1\\\\ 0,& otherwise \\end{cases}$\n",
    "\n",
    "Valor esperado: \n",
    "$$E[x] = \\int_{-\\infty}^{-\\infty} x f(x) dx = \\int_{-1}^{1} x \\frac{3}{2} x^{2} dx = \\frac{3}{2} \\int_{-1}^{1}  x^{3} dx = \\frac{3}{2} \\frac{x^{4}}{4} \\Big|_{-1}^{1} = \\frac{3}{8} [1 - 1] = 0$$\n",
    "\n",
    "Distribución acumulada:\n",
    "$$F(x) =  \\int_{-\\infty}^{x} f(x) dx = \\int_{-1}^{x} \\frac{3}{2} x^{2} dx = \\frac{3}{2} \\int_{-1}^{x} x^{2} dx = \\frac{3}{2} \\frac{x^{3}}{3} \\Big|_{-1}^{x} = \\frac{x^{3}}{2} \\Big|_{-1}^{x} = \\frac{x^{3}}{2} - \\frac{-1}{2} = \\frac{x^{3} + 1}{2}  $$\n",
    "\n",
    "Método de la transformada inversa:\n",
    "\n",
    "$$y = \\frac{ x^{3} + 1}{2} $$\n",
    "\n",
    "$$2 y = x^{3} + 1  $$\n",
    "\n",
    "$$ 2 y - 1 = x^{3} $$\n",
    "\n",
    "$$ x = [ 2y - 1]^{\\frac{1}{3}} $$\n",
    "\n",
    "\n"
   ]
  },
  {
   "cell_type": "code",
   "execution_count": 7,
   "metadata": {},
   "outputs": [
    {
     "data": {
      "image/png": "[encoded data removed]",
      "text/plain": [
       "<Figure size 1152x720 with 1 Axes>"
      ]
     },
     "metadata": {
      "needs_background": "light"
     },
     "output_type": "display_data"
    },
    {
     "name": "stdout",
     "output_type": "stream",
     "text": [
      "Estimacíon de la media = -0.1731547386116053\n"
     ]
    }
   ],
   "source": [
    "#a)\n",
    "\n",
    "# Funciones\n",
    "xi = lambda u: (2*u -1)**(1 / 3) if u > 0.5 else -(1-2* u)**(1 / 3)\n",
    "f = lambda x: 1.5 * x**2 if x <= 1 and x >= -1 else 0\n",
    "\n",
    "\n",
    "# Validation\n",
    "x = np.arange(-1, 1, 0.001)\n",
    "u = np.random.rand(10000)\n",
    "fl = list(map(xi, u))\n",
    "\n",
    "# Plot\n",
    "plt.figure(figsize= (16, 10))\n",
    "plt.plot(x, list(map(f, x)))\n",
    "plt.hist(fl, 100,  density=True)\n",
    "plt.title('Distribution')\n",
    "plt.show()\n",
    "\n",
    "#Crude Montecarlo Technique\n",
    "np.random.seed(420)\n",
    "mcmean = np.mean(list(map(xi, np.random.rand(10))))\n",
    "print('Estimacíon de la media =', mcmean)"
   ]
  },
  {
   "cell_type": "code",
   "execution_count": 8,
   "metadata": {},
   "outputs": [
    {
     "name": "stdout",
     "output_type": "stream",
     "text": [
      "Media = -0.16737464077723668\n"
     ]
    }
   ],
   "source": [
    "# b)\n",
    "np.random.seed(420)\n",
    "\n",
    "\n",
    "# Stratified sampling\n",
    "r1 = np.random.uniform(0, 0.6, 3)\n",
    "r2 = np.random.uniform(0.6, 0.9, 3)\n",
    "r3 = np.random.uniform(0.9, 1, 4)\n",
    "r = [r1, r2, r3]\n",
    "\n",
    "# Weighing\n",
    "w1 = (3/10)/0.6\n",
    "w2 = (3/10)/0.3\n",
    "w3 = (4/10)/0.1\n",
    "w = [w1, w2, w3]\n",
    "\n",
    "# Funciones\n",
    "mest = list(map(lambda r: np.array(list(map(xi, r))), r))\n",
    "sam = list(map(lambda wi, xi: xi/ wi, w, mest))\n",
    "\n",
    "print('Media =', np.mean(np.concatenate(sam)))"
   ]
  },
  {
   "cell_type": "code",
   "execution_count": 9,
   "metadata": {},
   "outputs": [
    {
     "data": {
      "text/plain": [
       "1.4210854715202004e-18"
      ]
     },
     "execution_count": 9,
     "metadata": {},
     "output_type": "execute_result"
    }
   ],
   "source": [
    "# c)\n",
    "u = np.random.rand(10000)\n",
    "cu = 1-u\n",
    "ut = [u, cu ]\n",
    "\n",
    "mf = list(map(lambda u: np.array(list(map(xi, u))), ut))\n",
    "np.mean(mf)"
   ]
  },
  {
   "cell_type": "code",
   "execution_count": 10,
   "metadata": {},
   "outputs": [
    {
     "name": "stderr",
     "output_type": "stream",
     "text": [
      "C:\\Users\\aleja\\anaconda3\\lib\\site-packages\\ipykernel_launcher.py:11: VisibleDeprecationWarning: Creating an ndarray from ragged nested sequences (which is a list-or-tuple of lists-or-tuples-or ndarrays with different lengths or shapes) is deprecated. If you meant to do this, you must specify 'dtype=object' when creating the ndarray\n",
      "  # This is added back by InteractiveShellApp.init_path()\n",
      "C:\\Users\\aleja\\anaconda3\\lib\\site-packages\\ipykernel_launcher.py:13: VisibleDeprecationWarning: Creating an ndarray from ragged nested sequences (which is a list-or-tuple of lists-or-tuples-or ndarrays with different lengths or shapes) is deprecated. If you meant to do this, you must specify 'dtype=object' when creating the ndarray\n",
      "  del sys.path[0]\n"
     ]
    },
    {
     "data": {
      "text/plain": [
       "[0.33327259264310827,\n",
       " -0.02591627101803448,\n",
       " -0.010980940124567351,\n",
       " 0.02189307136348575]"
      ]
     },
     "execution_count": 10,
     "metadata": {},
     "output_type": "execute_result"
    }
   ],
   "source": [
    "# d)\n",
    "\n",
    "def stratified(a, b: \"limites\", Est: \"Número de estratos\"):\n",
    "    ru = np.random.uniform(a, b, Est)\n",
    "    ii = np.arange(0, Est)\n",
    "    vec = (ru+ii)/ Est\n",
    "    return vec\n",
    "\n",
    "bs = [2, 4, 6, 10]\n",
    "\n",
    "a =  np.array(list(map(lambda x: stratified(0, 1, x), bs)))\n",
    "\n",
    "sample = np.array(list(map(lambda x: np.array(list(map(xi, x))), a)))\n",
    "\n",
    "med = [np.mean(sample[x]) for x in range(4)]\n",
    "med"
   ]
  },
  {
   "cell_type": "markdown",
   "metadata": {},
   "source": [
    "#### Conclusión\n",
    "\n",
    "El método estratíficado te proporciona una aproximación más certera que el crudo. En este punto las diferencias pueden no ser particularmente relevantes por lo mínimas que llegan a ser. El método que provee una mayor exactitud resulta ser el de los números complementarios, la simetría ayuda a traer un valor virtualmente identico al 0."
   ]
  },
  {
   "cell_type": "markdown",
   "metadata": {},
   "source": [
    "# Código de solución  Gabriela\n",
    ". \n",
    ".\n",
    ".\n",
    ".\n"
   ]
  },
  {
   "cell_type": "code",
   "execution_count": 44,
   "metadata": {},
   "outputs": [
    {
     "data": {
      "image/png": "[encoded data removed]",
      "text/plain": [
       "<Figure size 432x288 with 1 Axes>"
      ]
     },
     "metadata": {
      "needs_background": "light"
     },
     "output_type": "display_data"
    }
   ],
   "source": [
    "# Gaby \n",
    "\n",
    "f = lambda x: (3/2) * x ** 2 if x>=-1 and x<= 1 else 0 \n",
    "xi = lambda u: (2*(u-0.5))**(1/3) if u > 0.5 else -(2*(0.5-u))**(1/3)\n",
    "\n",
    "#a) \n",
    "np.random.seed(100)\n",
    "N = 10\n",
    "a = np.random.uniform(0,1,N)\n",
    "m = np.array(list(map(xi,a)))\n",
    "m.mean()\n",
    "\n",
    "x = np.arange(-1,1.01)\n",
    "m = np.asarray(list(map(xi,np.random.uniform(0,1,1000))))\n",
    "\n",
    "plt.plot(x,list(map(f,x)))\n",
    "plt.hist(m,density = True, bins =50)\n",
    "plt.show()"
   ]
  },
  {
   "cell_type": "code",
   "execution_count": 24,
   "metadata": {},
   "outputs": [
    {
     "name": "stdout",
     "output_type": "stream",
     "text": [
      "0.3496225696692105\n"
     ]
    }
   ],
   "source": [
    "#b) \n",
    "n1 = 3\n",
    "n2 = 3\n",
    "n3 = 4\n",
    "suma = n1 + n2 + n3\n",
    "r1 = np.random.uniform(0,.6,n1)\n",
    "r2 = np.random.uniform(.6,.9,n2)\n",
    "r3 = np.random.uniform(.9,1,n3)\n",
    "r = [r1,r2,r3]\n",
    "\n",
    "w1 = n1/suma/.6\n",
    "w2 = n2/suma/.3\n",
    "w3 = n3/suma/.1\n",
    "w = [w1,w2,w3]\n",
    "\n",
    "m_2 = list(map(lambda x: np.array(list(map(xi,x))),r))\n",
    "est = list(map(lambda x, wi:x/wi,m_2, w))\n",
    "est_2 = np.concatenate(est)\n",
    "media = np.mean(est_2)\n",
    "print(media)"
   ]
  },
  {
   "cell_type": "code",
   "execution_count": 25,
   "metadata": {},
   "outputs": [
    {
     "data": {
      "text/plain": [
       "0.0"
      ]
     },
     "execution_count": 25,
     "metadata": {},
     "output_type": "execute_result"
    }
   ],
   "source": [
    "#c)\n",
    "\n",
    "u1 = np.random.rand(5)\n",
    "u2 = 1-u1\n",
    "u = [u1,u2]\n",
    "\n",
    "m_3 = list(map(lambda x: np.array(list(map(xi,x))),u))\n",
    "np.mean(m_3)"
   ]
  },
  {
   "cell_type": "code",
   "execution_count": 30,
   "metadata": {},
   "outputs": [
    {
     "name": "stdout",
     "output_type": "stream",
     "text": [
      "[-0.3245404325584236, 0.061595546488241226, 0.011706901206894438, -0.015649566590989695]\n"
     ]
    }
   ],
   "source": [
    "def estratos(a,b,N):\n",
    "    u3 = np.random.uniform(a,b,N)\n",
    "    i = np.arange(0,N)\n",
    "    v = (u3+i)/N\n",
    "    return v\n",
    "\n",
    "B = [2,4,6,10]\n",
    "\n",
    "a = np.asarray(list(map(lambda x: estratos(0,1,x), B)))\n",
    "m_4 =np.asarray (list(map(lambda x: np.asarray(list(map(xi,x))),a)))\n",
    "\n",
    "media_2 = [np.mean(m_4[x]) for x in range(4)]\n",
    "print(media_2)"
   ]
  },
  {
   "cell_type": "markdown",
   "metadata": {},
   "source": [
    "#### Conclusión\n",
    "\n",
    "En mi opinion, considero que el metodo de números complementarios nos ofrece una mayor exactitud en comparación a los demas dados los resultados anteriores."
   ]
  }
 ],
 "metadata": {
  "kernelspec": {
   "display_name": "Python 3",
   "language": "python",
   "name": "python3"
  },
  "language_info": {
   "codemirror_mode": {
    "name": "ipython",
    "version": 3
   },
   "file_extension": ".py",
   "mimetype": "text/x-python",
   "name": "python",
   "nbconvert_exporter": "python",
   "pygments_lexer": "ipython3",
   "version": "3.8.3"
  }
 },
 "nbformat": 4,
 "nbformat_minor": 2
}
